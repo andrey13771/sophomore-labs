{
 "cells": [
  {
   "cell_type": "code",
   "execution_count": 4,
   "metadata": {},
   "outputs": [],
   "source": [
    "import numpy as np\n",
    "import pandas as pd"
   ]
  },
  {
   "cell_type": "code",
   "execution_count": 5,
   "metadata": {},
   "outputs": [],
   "source": [
    "data = pd.read_csv('ratings.dat', names=['UserID', 'ProfileID', 'Rating'], nrows = 1024 * 256)"
   ]
  },
  {
   "cell_type": "code",
   "execution_count": 6,
   "metadata": {},
   "outputs": [],
   "source": [
    "X = pd.pivot(data, 'UserID', 'ProfileID', 'Rating')"
   ]
  },
  {
   "cell_type": "code",
   "execution_count": 7,
   "metadata": {},
   "outputs": [],
   "source": [
    "X = X.iloc[:, :20000]"
   ]
  },
  {
   "cell_type": "code",
   "execution_count": 35,
   "metadata": {},
   "outputs": [],
   "source": [
    "def probabilistic_matrix_factorization(matrix, n_features, max_epoch=3):\n",
    "    n1, n2 = matrix.shape\n",
    "    u = np.random.uniform(0, 1 / n_features ** 0.5, size=(n1, n_features))\n",
    "    v = np.random.uniform(0, 1 / n_features ** 0.5, size=(n2, n_features))\n",
    "    index_pairs = np.where(np.logical_not(np.isnan(matrix)))\n",
    "    eye = np.eye(n_features)\n",
    "    error = []\n",
    "    for epoch in range(max_epoch):\n",
    "        for i, n in enumerate((n1, n2)):\n",
    "            uv = v if i else u\n",
    "            vu = u if i else v\n",
    "            for j in range(n):\n",
    "                idx = index_pairs[1 - i][np.where(index_pairs[i] == j)[0]]\n",
    "                a = 0\n",
    "                b = np.zeros(n_features)\n",
    "                for k in idx:\n",
    "                    a += np.dot(vu[k], vu[k])\n",
    "                    b += (matrix[k][j] if i else matrix[j][k]) * vu[k]\n",
    "                uv[j] = np.matmul(np.linalg.inv(5 * eye + a), b)\n",
    "        predictions = np.round(np.matmul(u, v.T)) \n",
    "        rmse = (np.nansum(np.square(matrix - predictions)) / index_pairs[0].shape) ** 0.5\n",
    "        error.append(rmse)\n",
    "    return u, v, error"
   ]
  },
  {
   "cell_type": "code",
   "execution_count": 27,
   "metadata": {},
   "outputs": [],
   "source": [
    "def probabilistic_matrix_factorization(matrix, n_features, max_epoch=3):\n",
    "    n1, n2 = matrix.shape\n",
    "    u = np.random.uniform(0, 1 / n_features ** 0.5, size=(n1, n_features))\n",
    "    v = np.random.uniform(0, 1 / n_features ** 0.5, size=(n2, n_features))\n",
    "    index_pairs = np.where(np.logical_not(np.isnan(matrix)))\n",
    "    eye = np.eye(n_features)\n",
    "    error = []\n",
    "    for epoch in range(max_epoch):\n",
    "#         print('epoch ', epoch)\n",
    "        for i, n in enumerate((n1, n2)):\n",
    "            uv = v if i else u\n",
    "            vu = u if i else v\n",
    "            for j in range(n):\n",
    "                idx = index_pairs[1 - i][np.where(index_pairs[i] == j)[0]]\n",
    "                a = 0\n",
    "                b = np.zeros(n_features)\n",
    "                for k in idx:\n",
    "                    a += np.dot(vu[k], vu[k])\n",
    "                    b += (matrix[k][j] if i else matrix[j][k]) * vu[k]\n",
    "                try:\n",
    "                    uv[j] = np.matmul(np.linalg.inv(5 * eye + a), b)\n",
    "                except np.linalg.LinAlgError:\n",
    "#                     print('singular', ('v' if i else 'u'))\n",
    "                    continue\n",
    "        predictions = np.round(np.matmul(u, v.T)) \n",
    "        rmse = (np.nansum(np.square(matrix - predictions)) / index_pairs[0].shape) ** 0.5\n",
    "        error.append(rmse)\n",
    "    return u, v, error"
   ]
  },
  {
   "cell_type": "code",
   "execution_count": 16,
   "metadata": {
    "collapsed": true
   },
   "outputs": [
    {
     "name": "stdout",
     "output_type": "stream",
     "text": [
      "epoch  0\n",
      "0\n",
      "1\n",
      "epoch  1\n",
      "0\n",
      "1\n",
      "epoch  2\n",
      "0\n",
      "1\n",
      "epoch  3\n",
      "0\n",
      "1\n"
     ]
    }
   ],
   "source": [
    "# u, v, error = probabilistic_matrix_factorization(X.values, 7, 4)"
   ]
  },
  {
   "cell_type": "code",
   "execution_count": 28,
   "metadata": {},
   "outputs": [
    {
     "name": "stdout",
     "output_type": "stream",
     "text": [
      "Optimal number of latent features: 10\n"
     ]
    }
   ],
   "source": [
    "uv = []\n",
    "errors = []\n",
    "for n_feat in [2, 5, 7, 10, 20]:\n",
    "    u, v, error = probabilistic_matrix_factorization(X.values, n_feat)\n",
    "    uv.append((u, v))\n",
    "    errors.append(error)\n",
    "ind = np.argmin(errors)\n",
    "uv = uv[ind]\n",
    "n_feat = [2, 5, 7, 10, 20][ind]\n",
    "print(f'Optimal number of latent features: {n_feat}')"
   ]
  },
  {
   "cell_type": "code",
   "execution_count": 34,
   "metadata": {},
   "outputs": [
    {
     "name": "stdout",
     "output_type": "stream",
     "text": [
      "You might like these profiles: \n",
      "#171353\n",
      "#65813\n",
      "#92231\n"
     ]
    }
   ],
   "source": [
    "user_id = 42\n",
    "user_index = list(data.UserID.unique()).index(user_id)\n",
    "profile_ratings = np.matmul(uv[0][user_index], uv[1].T)\n",
    "print('You might like these profiles: ')\n",
    "for i in range(3):\n",
    "    indx = np.argmax(profile_ratings)\n",
    "    profile_id = data.ProfileID.unique()[indx]\n",
    "    print(f'#{profile_id}')\n",
    "    profile_ratings = np.delete(profile_ratings, indx)"
    "You might like these profiles: \n",
      "#171353\n",
      "#65813\n",
      "#92231\n"
   ]
  },
  {
   "cell_type": "code",
   "execution_count": null,
   "metadata": {},
   "outputs": [],
   "source": [
    "# pmf = PMF()\n",
    "# pmf.fit(M_val, omega)"
   ]
  },
  {
   "cell_type": "code",
   "execution_count": null,
   "metadata": {},
   "outputs": [],
   "source": [
    "# for d in (2, 3, 5, 7, 10):\n",
    "#     pmf = PMF(d=d)\n",
    "#     pmf.fit(M_val, omega)\n",
    "#     print(f'd = {d}, RMSE = {pmf.loss}')"
   ]
  },
  {
   "cell_type": "code",
   "execution_count": null,
   "metadata": {},
   "outputs": [],
   "source": [
    "# def train(matrix, identity, learning_rate=0.01, max_iter=10, rank=10):\n",
    "#     n1 = matrix.shape[0]\n",
    "#     n2 = matrix.shape[1]\n",
    "# #     loss_history = []\n",
    "#     u = np.random.normal(size=(n1, rank))\n",
    "#     v = np.random.normal(size=(rank, n2))\n",
    "#     for k in range(max_iter):\n",
    "#         for i in range(n1):\n",
    "#             print(np.dot(u[i], v).shape)\n",
    "#             print((matrix[i] - np.dot(u[i], v)).shape)\n",
    "#             print(np.dot(identity[i], matrix[i] - np.dot(u[i], v)).shape)\n",
    "#             print(np.dot(np.dot(identity[i], matrix[i] - np.dot(u[i], v)), v).shape)\n",
    "#             u[i] += - learning_rate * (np.dot(np.dot(identity[i], matrix[i] - np.dot(u[i], v)), v) - u[i])\n",
    "#         for j in range(n2):\n",
    "#             v[j] += - learning_rate * (np.dot(np.dot(identity.T[j], matrix.T[j] - np.dot(u, v[j])), u) - v[j])\n",
    "#     return u, v"
   ]
  },
  {
   "cell_type": "code",
   "execution_count": null,
   "metadata": {},
   "outputs": [],
   "source": []
  },
  {
   "cell_type": "code",
   "execution_count": null,
   "metadata": {},
   "outputs": [],
   "source": [
    "# def train(matrix, identity, learning_rate=0.01, max_iter=3, rank=2):\n",
    "#     n1 = matrix.shape[0]\n",
    "#     n2 = matrix.shape[1]\n",
    "#     u = np.random.normal(size=(n1, rank))\n",
    "#     v = np.random.normal(size=(n2, rank))\n",
    "#     for k in range(max_iter):\n",
    "# #         print(f'epoch {k}')\n",
    "#         for i in range(n1):\n",
    "#             for j in range(n2):\n",
    "#                 s = identity[i][j] * (matrix[i][j] - np.dot(u[i], v[j])) * v[j]\n",
    "#             u[i] += - learning_rate * (s + u[i])\n",
    "#         for j in range(n2):\n",
    "#             for i in range(n1):\n",
    "#                 s = identity[i][j] * (matrix[i][j] - np.dot(u[i], v[j])) * u[i]\n",
    "#             v[j] += - learning_rate * (s + v[j])\n",
    "#     return u, v"
   ]
  },
  {
   "cell_type": "code",
   "execution_count": null,
   "metadata": {},
   "outputs": [],
   "source": [
    "# conf_matrix = conf_matrix.iloc[:5000, :2000]\n",
    "# pref_matrix = pref_matrix.iloc[:5000, :2000]"
   ]
  },
  {
   "cell_type": "code",
   "execution_count": null,
   "metadata": {},
   "outputs": [],
   "source": [
    "# conf_matrix.shape, pref_matrix.shape"
   ]
  },
  {
   "cell_type": "code",
   "execution_count": null,
   "metadata": {},
   "outputs": [],
   "source": [
    "# u, v = train(conf_matrix.values, pref_matrix.values)"
   ]
  },
  {
   "cell_type": "code",
   "execution_count": null,
   "metadata": {},
   "outputs": [],
   "source": [
    "# user2idx = {user: i for i, user in enumerate(df['USER ID'].unique()[:5000])}\n",
    "# idx2user = {i: user for user, i in user2idx.items()}\n",
    "\n",
    "# game2idx = {game: i for i, game in enumerate(df['GAME TITLE'].unique()[:2000])}\n",
    "# idx2game = {i: game for game, i in game2idx.items()}"
   ]
  },
  {
   "cell_type": "code",
   "execution_count": null,
   "metadata": {},
   "outputs": [],
   "source": [
    "# for user_idx in np.random.choice(list(idx2user.keys()), size=4, replace=False):\n",
    "#     user = idx2user[user_idx]\n",
    "#     games = {}\n",
    "#     for game_idx, game in idx2game.items():\n",
    "#         games[game] = np.dot(u[user_idx], v[game_idx])\n",
    "#     games = sorted(games.items(), key= lambda item: item[1], reverse=True)\n",
    "#     top10 = [games[i][0] for i in range(10)]\n",
    "#     print(f'\\nTop 10 Recommended Games for user #{user}:\\n')\n",
    "#     print(*top10, sep='\\n')"
   ]
  }
 ],
 "metadata": {
  "kernelspec": {
   "display_name": "Python 3",
   "language": "python",
   "name": "python3"
  },
  "language_info": {
   "codemirror_mode": {
    "name": "ipython",
    "version": 3
   },
   "file_extension": ".py",
   "mimetype": "text/x-python",
   "name": "python",
   "nbconvert_exporter": "python",
   "pygments_lexer": "ipython3",
   "version": "3.8.2"
  }
 },
 "nbformat": 4,
 "nbformat_minor": 4
}
