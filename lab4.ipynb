{
 "cells": [
  {
   "cell_type": "code",
   "execution_count": 1,
   "metadata": {},
   "outputs": [],
   "source": [
    "import numpy as np\n",
    "import pandas as pd\n",
    "from sklearn.model_selection import train_test_split"
   ]
  },
  {
   "cell_type": "code",
   "execution_count": 2,
   "metadata": {},
   "outputs": [],
   "source": [
    "df = pd.read_csv('steam-200k.csv', usecols=[0, 1, 2, 3],\n",
    "                 names=['USER ID', 'GAME TITLE', 'BEHAVIOUR', 'VALUE'])"
   ]
  },
  {
   "cell_type": "code",
   "execution_count": 3,
   "metadata": {},
   "outputs": [],
   "source": [
    "# import pandas_profiling\n",
    "# df.profile_report()"
   ]
  },
  {
   "cell_type": "code",
   "execution_count": 4,
   "metadata": {},
   "outputs": [],
   "source": [
    "df['HOURS'] = df['VALUE']\n",
    "df.loc[(df['BEHAVIOUR'] == 'purchase'), 'HOURS'] = 0\n",
    "df = df.sort_values(['USER ID', 'GAME TITLE', 'HOURS'])\n",
    "df = df.drop_duplicates(['USER ID', 'GAME TITLE'], keep='last').drop(columns=['BEHAVIOUR', 'VALUE'])"
   ]
  },
  {
   "cell_type": "code",
   "execution_count": 5,
   "metadata": {},
   "outputs": [],
   "source": [
    "# n1 = len(df['USER ID'].unique())\n",
    "# n2 = len(df['GAME TITLE'].unique())"
   ]
  },
  {
   "cell_type": "code",
   "execution_count": 6,
   "metadata": {},
   "outputs": [],
   "source": [
    "# df_train, df_test = train_test_split(df, random_state=42)"
   ]
  },
  {
   "cell_type": "code",
   "execution_count": 7,
   "metadata": {},
   "outputs": [],
   "source": [
    "user2idx = {user: i for i, user in enumerate(df['USER ID'].unique())}\n",
    "idx2user = {i: user for user, i in user2idx.items()}\n",
    "\n",
    "game2idx = {game: i for i, game in enumerate(df['GAME TITLE'].unique())}\n",
    "idx2game = {i: game for game, i in game2idx.items()}"
   ]
  },
  {
   "cell_type": "code",
   "execution_count": 8,
   "metadata": {},
   "outputs": [],
   "source": [
    "matrix = df.pivot(index='USER ID', columns='GAME TITLE', values='HOURS')"
   ]
  },
  {
   "cell_type": "code",
   "execution_count": 9,
   "metadata": {},
   "outputs": [],
   "source": [
    "matrix += 1"
   ]
  },
  {
   "cell_type": "code",
   "execution_count": 10,
   "metadata": {
    "scrolled": true
   },
   "outputs": [],
   "source": [
    "conf_matrix = matrix.fillna(0)"
   ]
  },
  {
   "cell_type": "code",
   "execution_count": 11,
   "metadata": {},
   "outputs": [],
   "source": [
    "# train_conf_matrix, test_conf_matrix = train_test_split(conf_matrix, random_state=42, test_size=0.1)"
   ]
  },
  {
   "cell_type": "code",
   "execution_count": 12,
   "metadata": {},
   "outputs": [],
   "source": [
    "pref_matrix = conf_matrix.astype(bool).astype(int)"
   ]
  },
  {
   "cell_type": "code",
   "execution_count": 13,
   "metadata": {},
   "outputs": [],
   "source": [
    "# train_pref_matrix = train_conf_matrix.astype(bool).astype(int)\n",
    "# test_pref_matrix = test_conf_matrix.astype(bool).astype(int)"
   ]
  },
  {
   "cell_type": "code",
   "execution_count": 14,
   "metadata": {},
   "outputs": [],
   "source": [
    "# def next_batch(matrix, batch_size=256):\n",
    "#     for i in range(0, matrix.shape[0], batch_size):\n",
    "#         yield matrix[i: i + batch_size]"
   ]
  },
  {
   "cell_type": "code",
   "execution_count": 15,
   "metadata": {},
   "outputs": [],
   "source": [
    "# def train(matrix, identity, learning_rate=0.01, max_iter=10, rank=10):\n",
    "#     n1 = matrix.shape[0]\n",
    "#     n2 = matrix.shape[1]\n",
    "# #     loss_history = []\n",
    "#     u = np.random.normal(size=(n1, rank))\n",
    "#     v = np.random.normal(size=(rank, n2))\n",
    "#     for k in range(max_iter):\n",
    "#         for i in range(n1):\n",
    "#             print(np.dot(u[i], v).shape)\n",
    "#             print((matrix[i] - np.dot(u[i], v)).shape)\n",
    "#             print(np.dot(identity[i], matrix[i] - np.dot(u[i], v)).shape)\n",
    "#             print(np.dot(np.dot(identity[i], matrix[i] - np.dot(u[i], v)), v).shape)\n",
    "#             u[i] += - learning_rate * (np.dot(np.dot(identity[i], matrix[i] - np.dot(u[i], v)), v) - u[i])\n",
    "#         for j in range(n2):\n",
    "#             v[j] += - learning_rate * (np.dot(np.dot(identity.T[j], matrix.T[j] - np.dot(u, v[j])), u) - v[j])\n",
    "#     return u, v"
   ]
  },
  {
   "cell_type": "code",
   "execution_count": 16,
   "metadata": {},
   "outputs": [],
   "source": [
    "def train(matrix, identity, learning_rate=0.01, max_iter=3, rank=2):\n",
    "    n1 = matrix.shape[0]\n",
    "    n2 = matrix.shape[1]\n",
    "    u = np.random.normal(size=(n1, rank))\n",
    "    v = np.random.normal(size=(n2, rank))\n",
    "    for k in range(max_iter):\n",
    "#         print(f'epoch {k}')\n",
    "        for i in range(n1):\n",
    "            for j in range(n2):\n",
    "                s = identity[i][j] * (matrix[i][j] - np.dot(u[i], v[j])) * v[j]\n",
    "            u[i] += - learning_rate * (s + u[i])\n",
    "        for j in range(n2):\n",
    "            for i in range(n1):\n",
    "                s = identity[i][j] * (matrix[i][j] - np.dot(u[i], v[j])) * u[i]\n",
    "            v[j] += - learning_rate * (s + v[j])\n",
    "    return u, v"
   ]
  },
  {
   "cell_type": "code",
   "execution_count": 17,
   "metadata": {},
   "outputs": [],
   "source": [
    "# conf_matrix = conf_matrix.iloc[:5000, :2000]\n",
    "# pref_matrix = pref_matrix.iloc[:5000, :2000]"
   ]
  },
  {
   "cell_type": "code",
   "execution_count": 18,
   "metadata": {
    "collapsed": true
   },
   "outputs": [
    {
     "data": {
      "text/plain": [
       "((5000, 2000), (5000, 2000))"
      ]
     },
     "execution_count": 18,
     "metadata": {},
     "output_type": "execute_result"
    }
   ],
   "source": [
    "# conf_matrix.shape, pref_matrix.shape"
   ]
  },
  {
   "cell_type": "code",
   "execution_count": 19,
   "metadata": {
    "collapsed": true
   },
   "outputs": [
    {
     "name": "stdout",
     "output_type": "stream",
     "text": [
      "epoch 0\n",
      "epoch 1\n",
      "epoch 2\n"
     ]
    }
   ],
   "source": [
    "u, v = train(conf_matrix.values, pref_matrix.values)"
   ]
  },
  {
   "cell_type": "code",
   "execution_count": 23,
   "metadata": {},
   "outputs": [],
   "source": [
    "# user2idx = {user: i for i, user in enumerate(df['USER ID'].unique()[:5000])}\n",
    "# idx2user = {i: user for user, i in user2idx.items()}\n",
    "\n",
    "# game2idx = {game: i for i, game in enumerate(df['GAME TITLE'].unique()[:2000])}\n",
    "# idx2game = {i: game for game, i in game2idx.items()}"
   ]
  },
  {
   "cell_type": "code",
   "execution_count": 31,
   "metadata": {},
   "outputs": [
    {
     "name": "stdout",
     "output_type": "stream",
     "text": [
      "\n",
      "Top 10 Recommended Games for user #126843636:\n",
      "\n",
      "Trine 2\n",
      "Pirates of Black Cove\n",
      "Pre-Civilization Marble Age\n",
      "Magic The Gathering - Duels of the Planeswalkers 2013\n",
      "Divinity Dragon Commander\n",
      "Mirror's Edge\n",
      "GRID 2 GTR Racing Pack\n",
      "Resident Evil 5 / Biohazard 5\n",
      "Toy Soldiers\n",
      "Insaniquarium! Deluxe\n",
      "\n",
      "Top 10 Recommended Games for user #67713900:\n",
      "\n",
      "Democracy 3\n",
      "Natural Selection 2\n",
      "Shadows on the Vatican - Act I Greed\n",
      "Solar Flux\n",
      "Bridge Constructor\n",
      "Hacker Evolution Duality\n",
      "Ghost Master\n",
      "AdVenture Capitalist\n",
      "Mount & Blade Warband - Viking Conquest Reforged Edition\n",
      "Hector Ep 2\n",
      "\n",
      "Top 10 Recommended Games for user #137977132:\n",
      "\n",
      "Democracy 3\n",
      "Fallen Enchantress Legendary Heroes\n",
      "NyxQuest\n",
      "AdVenture Capitalist\n",
      "Hacker Evolution Duality\n",
      "Pinball FX2 - Paranormal Table\n",
      "Ghost Master\n",
      "Spore Galactic Adventures\n",
      "Natural Selection 2\n",
      "Solar Flux\n",
      "\n",
      "Top 10 Recommended Games for user #31944667:\n",
      "\n",
      "Trine 2\n",
      "Section 8 Prejudice\n",
      "TERA\n",
      "GRID 2 GTR Racing Pack\n",
      "Geometry Wars Retro Evolved\n",
      "Divinity Dragon Commander\n",
      "Dungeon Siege 2\n",
      "Magic The Gathering - Duels of the Planeswalkers 2013\n",
      "Pre-Civilization Marble Age\n",
      "Warhammer 40,000 Storm of Vengeance Deathwing Terminator\n"
     ]
    }
   ],
   "source": [
    "for user_idx in np.random.choice(list(idx2user.keys()), size=4, replace=False):\n",
    "    user = idx2user[user_idx]\n",
    "    games = {}\n",
    "    for game_idx, game in idx2game.items():\n",
    "        games[game] = np.dot(u[user_idx], v[game_idx])\n",
    "    games = sorted(games.items(), key= lambda item: item[1], reverse=True)\n",
    "    top10 = [games[i][0] for i in range(10)]\n",
    "    print(f'\\nTop 10 Recommended Games for user #{user}:\\n')\n",
    "    print(*top10, sep='\\n')"
   ]
  }
 ],
 "metadata": {
  "kernelspec": {
   "display_name": "Python 3",
   "language": "python",
   "name": "python3"
  },
  "language_info": {
   "codemirror_mode": {
    "name": "ipython",
    "version": 3
   },
   "file_extension": ".py",
   "mimetype": "text/x-python",
   "name": "python",
   "nbconvert_exporter": "python",
   "pygments_lexer": "ipython3",
   "version": "3.8.2"
  }
 },
 "nbformat": 4,
 "nbformat_minor": 4
}
